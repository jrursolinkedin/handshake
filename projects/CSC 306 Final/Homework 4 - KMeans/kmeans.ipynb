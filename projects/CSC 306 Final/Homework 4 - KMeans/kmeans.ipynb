{
 "cells": [
  {
   "cell_type": "code",
   "execution_count": 1,
   "metadata": {},
   "outputs": [
    {
     "data": {
      "text/plain": [
       "'\\nName: Jack Urso\\nDate: 5/04/2021 (DUE)\\nClass: CSC 364\\nAssignment: K-Means Clustering Implementation - Final Project\\n\\nQuestion:\\n- What are the similarities between the weather and violent crime \\n  in Chicago?\\n\\nDescription:\\n- For each violent crime attribute and the weather atrributes, I \\n  used K-Means to identify and group similar data points. The K-Means\\n  algorithm works by finding observations that share important \\n  characteristics and classifies them together into \\'k\\' clusters.\\n- Steps to Program:\\n  1.) Read in the dataset.\\n  2.) Preprocessing the dataset:\\n      - Changing attribute names.\\n      - Normalizing the dataset using MinMaxScaler() [0-1 Scale]\\n  3.) Run K-Means Algorithm 7 times (each subset):\\n      - Use the \"elbow method\" to find k value.\\n      - Then,\\n         A.) With the given \\'k\\' value, randomly choosing an intial centroid\\n             for each cluster.\\n         B.) Assign each observation to its nearest centroid.\\n         C.) Update the centroids as being the center in their \\n             respective observation.\\n         D.) We repeat steps B-C over and over until there is no further \\n             change in the clusters.\\n  4.) Print all the centroids.\\n      * Where I performed the cluster analysis\\n      \\nReferences:\\n- https://www.kaggle.com/funxexcel/p1-sklearn-k-means-example\\n- https://github.com/codebasics/py/blob/master/ML/13_kmeans/13_kmeans_tutorial.ipynb\\n'"
      ]
     },
     "execution_count": 1,
     "metadata": {},
     "output_type": "execute_result"
    }
   ],
   "source": [
    "'''\n",
    "Name: Jack Urso\n",
    "Date: 5/04/2021 (DUE)\n",
    "Class: CSC 364\n",
    "Assignment: K-Means Clustering Implementation - Final Project\n",
    "\n",
    "Question:\n",
    "- What are the similarities between the weather and violent crime \n",
    "  in Chicago?\n",
    "\n",
    "Description:\n",
    "- For each violent crime attribute and the weather atrributes, I \n",
    "  used K-Means to identify and group similar data points. The K-Means\n",
    "  algorithm works by finding observations that share important \n",
    "  characteristics and classifies them together into 'k' clusters.\n",
    "- Steps to Program:\n",
    "  1.) Read in the dataset.\n",
    "  2.) Preprocessing the dataset:\n",
    "      - Changing attribute names.\n",
    "      - Normalizing the dataset using MinMaxScaler() [0-1 Scale]\n",
    "  3.) Run K-Means Algorithm 7 times (each subset):\n",
    "      - Use the \"elbow method\" to find k value.\n",
    "      - Then,\n",
    "         A.) With the given 'k' value, randomly choosing an intial centroid\n",
    "             for each cluster.\n",
    "         B.) Assign each observation to its nearest centroid.\n",
    "         C.) Update the centroids as being the center in their \n",
    "             respective observation.\n",
    "         D.) We repeat steps B-C over and over until there is no further \n",
    "             change in the clusters.\n",
    "  4.) Print all the centroids.\n",
    "      * Where I performed the cluster analysis\n",
    "      \n",
    "References:\n",
    "- https://www.kaggle.com/funxexcel/p1-sklearn-k-means-example\n",
    "- https://github.com/codebasics/py/blob/master/ML/13_kmeans/13_kmeans_tutorial.ipynb\n",
    "'''"
   ]
  },
  {
   "cell_type": "code",
   "execution_count": 2,
   "metadata": {},
   "outputs": [],
   "source": [
    "from sklearn.cluster import KMeans\n",
    "import pandas as pd\n",
    "from sklearn.preprocessing import MinMaxScaler\n",
    "from matplotlib import pyplot as plt\n",
    "import seaborn as sns\n",
    "%matplotlib inline"
   ]
  },
  {
   "cell_type": "code",
   "execution_count": 3,
   "metadata": {},
   "outputs": [
    {
     "data": {
      "text/html": [
       "<div>\n",
       "<style scoped>\n",
       "    .dataframe tbody tr th:only-of-type {\n",
       "        vertical-align: middle;\n",
       "    }\n",
       "\n",
       "    .dataframe tbody tr th {\n",
       "        vertical-align: top;\n",
       "    }\n",
       "\n",
       "    .dataframe thead th {\n",
       "        text-align: right;\n",
       "    }\n",
       "</style>\n",
       "<table border=\"1\" class=\"dataframe\">\n",
       "  <thead>\n",
       "    <tr style=\"text-align: right;\">\n",
       "      <th></th>\n",
       "      <th>Date</th>\n",
       "      <th>Temp (Kevin)</th>\n",
       "      <th>Humidity (%)</th>\n",
       "      <th>Wind (mph)</th>\n",
       "      <th>Fog (Mist, Haze, Fog)</th>\n",
       "      <th>Snow (light snow, snow)</th>\n",
       "      <th>Rain (light rain, moderate rain, heavy intensity rain)</th>\n",
       "      <th>Sunny (sky is clear, few clouds, scattered clouds)</th>\n",
       "      <th>Cloudy (broken clouds, overcast clouds)</th>\n",
       "      <th># of Homicides</th>\n",
       "      <th># of Assaults</th>\n",
       "      <th># of Battery</th>\n",
       "      <th># of Robbery</th>\n",
       "      <th># of Kidnapping</th>\n",
       "      <th># of Rapes</th>\n",
       "      <th># Violent Crimes</th>\n",
       "    </tr>\n",
       "  </thead>\n",
       "  <tbody>\n",
       "    <tr>\n",
       "      <th>0</th>\n",
       "      <td>41640</td>\n",
       "      <td>267.220</td>\n",
       "      <td>89</td>\n",
       "      <td>4</td>\n",
       "      <td>1</td>\n",
       "      <td>0</td>\n",
       "      <td>0</td>\n",
       "      <td>0</td>\n",
       "      <td>0</td>\n",
       "      <td>0</td>\n",
       "      <td>32</td>\n",
       "      <td>231</td>\n",
       "      <td>31</td>\n",
       "      <td>1</td>\n",
       "      <td>35</td>\n",
       "      <td>330</td>\n",
       "    </tr>\n",
       "    <tr>\n",
       "      <th>1</th>\n",
       "      <td>41641</td>\n",
       "      <td>285.193</td>\n",
       "      <td>89</td>\n",
       "      <td>5</td>\n",
       "      <td>1</td>\n",
       "      <td>0</td>\n",
       "      <td>0</td>\n",
       "      <td>0</td>\n",
       "      <td>0</td>\n",
       "      <td>0</td>\n",
       "      <td>24</td>\n",
       "      <td>79</td>\n",
       "      <td>29</td>\n",
       "      <td>0</td>\n",
       "      <td>3</td>\n",
       "      <td>135</td>\n",
       "    </tr>\n",
       "    <tr>\n",
       "      <th>2</th>\n",
       "      <td>41642</td>\n",
       "      <td>264.260</td>\n",
       "      <td>89</td>\n",
       "      <td>5</td>\n",
       "      <td>0</td>\n",
       "      <td>0</td>\n",
       "      <td>0</td>\n",
       "      <td>0</td>\n",
       "      <td>1</td>\n",
       "      <td>1</td>\n",
       "      <td>24</td>\n",
       "      <td>86</td>\n",
       "      <td>27</td>\n",
       "      <td>0</td>\n",
       "      <td>1</td>\n",
       "      <td>139</td>\n",
       "    </tr>\n",
       "    <tr>\n",
       "      <th>3</th>\n",
       "      <td>41643</td>\n",
       "      <td>272.310</td>\n",
       "      <td>89</td>\n",
       "      <td>8</td>\n",
       "      <td>0</td>\n",
       "      <td>0</td>\n",
       "      <td>0</td>\n",
       "      <td>0</td>\n",
       "      <td>1</td>\n",
       "      <td>0</td>\n",
       "      <td>32</td>\n",
       "      <td>118</td>\n",
       "      <td>24</td>\n",
       "      <td>0</td>\n",
       "      <td>2</td>\n",
       "      <td>176</td>\n",
       "    </tr>\n",
       "    <tr>\n",
       "      <th>4</th>\n",
       "      <td>41644</td>\n",
       "      <td>272.050</td>\n",
       "      <td>95</td>\n",
       "      <td>6</td>\n",
       "      <td>1</td>\n",
       "      <td>0</td>\n",
       "      <td>0</td>\n",
       "      <td>0</td>\n",
       "      <td>0</td>\n",
       "      <td>1</td>\n",
       "      <td>28</td>\n",
       "      <td>90</td>\n",
       "      <td>19</td>\n",
       "      <td>1</td>\n",
       "      <td>3</td>\n",
       "      <td>142</td>\n",
       "    </tr>\n",
       "  </tbody>\n",
       "</table>\n",
       "</div>"
      ],
      "text/plain": [
       "    Date  Temp (Kevin)  Humidity (%)  Wind (mph)  Fog (Mist, Haze, Fog)  \\\n",
       "0  41640       267.220            89           4                      1   \n",
       "1  41641       285.193            89           5                      1   \n",
       "2  41642       264.260            89           5                      0   \n",
       "3  41643       272.310            89           8                      0   \n",
       "4  41644       272.050            95           6                      1   \n",
       "\n",
       "   Snow (light snow, snow)  \\\n",
       "0                        0   \n",
       "1                        0   \n",
       "2                        0   \n",
       "3                        0   \n",
       "4                        0   \n",
       "\n",
       "   Rain (light rain, moderate rain, heavy intensity rain)  \\\n",
       "0                                                  0        \n",
       "1                                                  0        \n",
       "2                                                  0        \n",
       "3                                                  0        \n",
       "4                                                  0        \n",
       "\n",
       "   Sunny (sky is clear, few clouds, scattered clouds)  \\\n",
       "0                                                  0    \n",
       "1                                                  0    \n",
       "2                                                  0    \n",
       "3                                                  0    \n",
       "4                                                  0    \n",
       "\n",
       "   Cloudy (broken clouds, overcast clouds)  # of Homicides  # of Assaults  \\\n",
       "0                                        0               0             32   \n",
       "1                                        0               0             24   \n",
       "2                                        1               1             24   \n",
       "3                                        1               0             32   \n",
       "4                                        0               1             28   \n",
       "\n",
       "   # of Battery  # of Robbery  # of Kidnapping  # of Rapes  # Violent Crimes  \n",
       "0           231            31                1          35               330  \n",
       "1            79            29                0           3               135  \n",
       "2            86            27                0           1               139  \n",
       "3           118            24                0           2               176  \n",
       "4            90            19                1           3               142  "
      ]
     },
     "execution_count": 3,
     "metadata": {},
     "output_type": "execute_result"
    }
   ],
   "source": [
    "# Read the csv file.\n",
    "df = pd.read_csv(\"clusteringdata2.csv\")\n",
    "# Print contents within file.\n",
    "df.head()"
   ]
  },
  {
   "cell_type": "code",
   "execution_count": 4,
   "metadata": {},
   "outputs": [
    {
     "data": {
      "text/html": [
       "<div>\n",
       "<style scoped>\n",
       "    .dataframe tbody tr th:only-of-type {\n",
       "        vertical-align: middle;\n",
       "    }\n",
       "\n",
       "    .dataframe tbody tr th {\n",
       "        vertical-align: top;\n",
       "    }\n",
       "\n",
       "    .dataframe thead th {\n",
       "        text-align: right;\n",
       "    }\n",
       "</style>\n",
       "<table border=\"1\" class=\"dataframe\">\n",
       "  <thead>\n",
       "    <tr style=\"text-align: right;\">\n",
       "      <th></th>\n",
       "      <th>Date</th>\n",
       "      <th>Temp</th>\n",
       "      <th>Humidity</th>\n",
       "      <th>Wind</th>\n",
       "      <th>Fog</th>\n",
       "      <th>Snow</th>\n",
       "      <th>Rain</th>\n",
       "      <th>Sunny</th>\n",
       "      <th>Cloudy</th>\n",
       "      <th>Homicides</th>\n",
       "      <th>Assaults</th>\n",
       "      <th>Battery</th>\n",
       "      <th>Robbery</th>\n",
       "      <th>Kidnapping</th>\n",
       "      <th>Rapes</th>\n",
       "      <th>VCrimes</th>\n",
       "    </tr>\n",
       "  </thead>\n",
       "  <tbody>\n",
       "    <tr>\n",
       "      <th>0</th>\n",
       "      <td>41640</td>\n",
       "      <td>267.220</td>\n",
       "      <td>89</td>\n",
       "      <td>4</td>\n",
       "      <td>1</td>\n",
       "      <td>0</td>\n",
       "      <td>0</td>\n",
       "      <td>0</td>\n",
       "      <td>0</td>\n",
       "      <td>0</td>\n",
       "      <td>32</td>\n",
       "      <td>231</td>\n",
       "      <td>31</td>\n",
       "      <td>1</td>\n",
       "      <td>35</td>\n",
       "      <td>330</td>\n",
       "    </tr>\n",
       "    <tr>\n",
       "      <th>1</th>\n",
       "      <td>41641</td>\n",
       "      <td>285.193</td>\n",
       "      <td>89</td>\n",
       "      <td>5</td>\n",
       "      <td>1</td>\n",
       "      <td>0</td>\n",
       "      <td>0</td>\n",
       "      <td>0</td>\n",
       "      <td>0</td>\n",
       "      <td>0</td>\n",
       "      <td>24</td>\n",
       "      <td>79</td>\n",
       "      <td>29</td>\n",
       "      <td>0</td>\n",
       "      <td>3</td>\n",
       "      <td>135</td>\n",
       "    </tr>\n",
       "    <tr>\n",
       "      <th>2</th>\n",
       "      <td>41642</td>\n",
       "      <td>264.260</td>\n",
       "      <td>89</td>\n",
       "      <td>5</td>\n",
       "      <td>0</td>\n",
       "      <td>0</td>\n",
       "      <td>0</td>\n",
       "      <td>0</td>\n",
       "      <td>1</td>\n",
       "      <td>1</td>\n",
       "      <td>24</td>\n",
       "      <td>86</td>\n",
       "      <td>27</td>\n",
       "      <td>0</td>\n",
       "      <td>1</td>\n",
       "      <td>139</td>\n",
       "    </tr>\n",
       "    <tr>\n",
       "      <th>3</th>\n",
       "      <td>41643</td>\n",
       "      <td>272.310</td>\n",
       "      <td>89</td>\n",
       "      <td>8</td>\n",
       "      <td>0</td>\n",
       "      <td>0</td>\n",
       "      <td>0</td>\n",
       "      <td>0</td>\n",
       "      <td>1</td>\n",
       "      <td>0</td>\n",
       "      <td>32</td>\n",
       "      <td>118</td>\n",
       "      <td>24</td>\n",
       "      <td>0</td>\n",
       "      <td>2</td>\n",
       "      <td>176</td>\n",
       "    </tr>\n",
       "    <tr>\n",
       "      <th>4</th>\n",
       "      <td>41644</td>\n",
       "      <td>272.050</td>\n",
       "      <td>95</td>\n",
       "      <td>6</td>\n",
       "      <td>1</td>\n",
       "      <td>0</td>\n",
       "      <td>0</td>\n",
       "      <td>0</td>\n",
       "      <td>0</td>\n",
       "      <td>1</td>\n",
       "      <td>28</td>\n",
       "      <td>90</td>\n",
       "      <td>19</td>\n",
       "      <td>1</td>\n",
       "      <td>3</td>\n",
       "      <td>142</td>\n",
       "    </tr>\n",
       "  </tbody>\n",
       "</table>\n",
       "</div>"
      ],
      "text/plain": [
       "    Date     Temp  Humidity  Wind  Fog  Snow  Rain  Sunny  Cloudy  Homicides  \\\n",
       "0  41640  267.220        89     4    1     0     0      0       0          0   \n",
       "1  41641  285.193        89     5    1     0     0      0       0          0   \n",
       "2  41642  264.260        89     5    0     0     0      0       1          1   \n",
       "3  41643  272.310        89     8    0     0     0      0       1          0   \n",
       "4  41644  272.050        95     6    1     0     0      0       0          1   \n",
       "\n",
       "   Assaults  Battery  Robbery  Kidnapping  Rapes  VCrimes  \n",
       "0        32      231       31           1     35      330  \n",
       "1        24       79       29           0      3      135  \n",
       "2        24       86       27           0      1      139  \n",
       "3        32      118       24           0      2      176  \n",
       "4        28       90       19           1      3      142  "
      ]
     },
     "execution_count": 4,
     "metadata": {},
     "output_type": "execute_result"
    }
   ],
   "source": [
    "# Change the labels.\n",
    "df.rename(columns={'Temp (Kevin)' : 'Temp', 'Humidity (%)' : 'Humidity', 'Wind (mph)' : 'Wind', 'Fog (Mist, Haze, Fog)' : 'Fog',\n",
    "                  'Snow (light snow, snow)' : 'Snow', 'Rain (light rain, moderate rain, heavy intensity rain)' : 'Rain',\n",
    "                  'Sunny (sky is clear, few clouds, scattered clouds)' : 'Sunny', 'Cloudy (broken clouds, overcast clouds)' : 'Cloudy',\n",
    "                  '# of Homicides' : 'Homicides', '# of Assaults' : 'Assaults', '# of Battery' : 'Battery', '# of Robbery' : 'Robbery',\n",
    "                  '# of Kidnapping' : 'Kidnapping', '# of Rapes' : 'Rapes', '# Violent Crimes' : 'VCrimes'}, inplace = True)\n",
    "df.head()"
   ]
  },
  {
   "cell_type": "code",
   "execution_count": 5,
   "metadata": {},
   "outputs": [
    {
     "data": {
      "text/html": [
       "<div>\n",
       "<style scoped>\n",
       "    .dataframe tbody tr th:only-of-type {\n",
       "        vertical-align: middle;\n",
       "    }\n",
       "\n",
       "    .dataframe tbody tr th {\n",
       "        vertical-align: top;\n",
       "    }\n",
       "\n",
       "    .dataframe thead th {\n",
       "        text-align: right;\n",
       "    }\n",
       "</style>\n",
       "<table border=\"1\" class=\"dataframe\">\n",
       "  <thead>\n",
       "    <tr style=\"text-align: right;\">\n",
       "      <th></th>\n",
       "      <th>Date</th>\n",
       "      <th>Temp</th>\n",
       "      <th>Humidity</th>\n",
       "      <th>Wind</th>\n",
       "      <th>Fog</th>\n",
       "      <th>Snow</th>\n",
       "      <th>Rain</th>\n",
       "      <th>Sunny</th>\n",
       "      <th>Cloudy</th>\n",
       "      <th>Homicides</th>\n",
       "      <th>Assaults</th>\n",
       "      <th>Battery</th>\n",
       "      <th>Robbery</th>\n",
       "      <th>Kidnapping</th>\n",
       "      <th>Rapes</th>\n",
       "      <th>VCrimes</th>\n",
       "    </tr>\n",
       "  </thead>\n",
       "  <tbody>\n",
       "    <tr>\n",
       "      <th>0</th>\n",
       "      <td>41640</td>\n",
       "      <td>0.225718</td>\n",
       "      <td>0.89</td>\n",
       "      <td>0.142857</td>\n",
       "      <td>1.0</td>\n",
       "      <td>0.0</td>\n",
       "      <td>0.0</td>\n",
       "      <td>0.0</td>\n",
       "      <td>0.0</td>\n",
       "      <td>0.0</td>\n",
       "      <td>0.190476</td>\n",
       "      <td>0.900524</td>\n",
       "      <td>0.48</td>\n",
       "      <td>0.2</td>\n",
       "      <td>0.795455</td>\n",
       "      <td>0.948207</td>\n",
       "    </tr>\n",
       "    <tr>\n",
       "      <th>1</th>\n",
       "      <td>41641</td>\n",
       "      <td>0.582269</td>\n",
       "      <td>0.89</td>\n",
       "      <td>0.214286</td>\n",
       "      <td>1.0</td>\n",
       "      <td>0.0</td>\n",
       "      <td>0.0</td>\n",
       "      <td>0.0</td>\n",
       "      <td>0.0</td>\n",
       "      <td>0.0</td>\n",
       "      <td>0.063492</td>\n",
       "      <td>0.104712</td>\n",
       "      <td>0.44</td>\n",
       "      <td>0.0</td>\n",
       "      <td>0.068182</td>\n",
       "      <td>0.171315</td>\n",
       "    </tr>\n",
       "    <tr>\n",
       "      <th>2</th>\n",
       "      <td>41642</td>\n",
       "      <td>0.166997</td>\n",
       "      <td>0.89</td>\n",
       "      <td>0.214286</td>\n",
       "      <td>0.0</td>\n",
       "      <td>0.0</td>\n",
       "      <td>0.0</td>\n",
       "      <td>0.0</td>\n",
       "      <td>1.0</td>\n",
       "      <td>0.1</td>\n",
       "      <td>0.063492</td>\n",
       "      <td>0.141361</td>\n",
       "      <td>0.40</td>\n",
       "      <td>0.0</td>\n",
       "      <td>0.022727</td>\n",
       "      <td>0.187251</td>\n",
       "    </tr>\n",
       "    <tr>\n",
       "      <th>3</th>\n",
       "      <td>41643</td>\n",
       "      <td>0.326694</td>\n",
       "      <td>0.89</td>\n",
       "      <td>0.428571</td>\n",
       "      <td>0.0</td>\n",
       "      <td>0.0</td>\n",
       "      <td>0.0</td>\n",
       "      <td>0.0</td>\n",
       "      <td>1.0</td>\n",
       "      <td>0.0</td>\n",
       "      <td>0.190476</td>\n",
       "      <td>0.308901</td>\n",
       "      <td>0.34</td>\n",
       "      <td>0.0</td>\n",
       "      <td>0.045455</td>\n",
       "      <td>0.334661</td>\n",
       "    </tr>\n",
       "    <tr>\n",
       "      <th>4</th>\n",
       "      <td>41644</td>\n",
       "      <td>0.321536</td>\n",
       "      <td>0.95</td>\n",
       "      <td>0.285714</td>\n",
       "      <td>1.0</td>\n",
       "      <td>0.0</td>\n",
       "      <td>0.0</td>\n",
       "      <td>0.0</td>\n",
       "      <td>0.0</td>\n",
       "      <td>0.1</td>\n",
       "      <td>0.126984</td>\n",
       "      <td>0.162304</td>\n",
       "      <td>0.24</td>\n",
       "      <td>0.2</td>\n",
       "      <td>0.068182</td>\n",
       "      <td>0.199203</td>\n",
       "    </tr>\n",
       "  </tbody>\n",
       "</table>\n",
       "</div>"
      ],
      "text/plain": [
       "    Date      Temp  Humidity      Wind  Fog  Snow  Rain  Sunny  Cloudy  \\\n",
       "0  41640  0.225718      0.89  0.142857  1.0   0.0   0.0    0.0     0.0   \n",
       "1  41641  0.582269      0.89  0.214286  1.0   0.0   0.0    0.0     0.0   \n",
       "2  41642  0.166997      0.89  0.214286  0.0   0.0   0.0    0.0     1.0   \n",
       "3  41643  0.326694      0.89  0.428571  0.0   0.0   0.0    0.0     1.0   \n",
       "4  41644  0.321536      0.95  0.285714  1.0   0.0   0.0    0.0     0.0   \n",
       "\n",
       "   Homicides  Assaults   Battery  Robbery  Kidnapping     Rapes   VCrimes  \n",
       "0        0.0  0.190476  0.900524     0.48         0.2  0.795455  0.948207  \n",
       "1        0.0  0.063492  0.104712     0.44         0.0  0.068182  0.171315  \n",
       "2        0.1  0.063492  0.141361     0.40         0.0  0.022727  0.187251  \n",
       "3        0.0  0.190476  0.308901     0.34         0.0  0.045455  0.334661  \n",
       "4        0.1  0.126984  0.162304     0.24         0.2  0.068182  0.199203  "
      ]
     },
     "execution_count": 5,
     "metadata": {},
     "output_type": "execute_result"
    }
   ],
   "source": [
    "# Normalizing all the atrributes.\n",
    "scaler = MinMaxScaler()\n",
    "# For each attribute...\n",
    "scaler.fit(df[['Temp']])\n",
    "df['Temp'] = scaler.transform(df[['Temp']])\n",
    "scaler.fit(df[['Humidity']])\n",
    "df['Humidity'] = scaler.transform(df[['Humidity']])\n",
    "scaler.fit(df[['Wind']])\n",
    "df['Wind'] = scaler.transform(df[['Wind']])\n",
    "scaler.fit(df[['Fog']])\n",
    "df['Fog'] = scaler.transform(df[['Fog']])\n",
    "scaler.fit(df[['Snow']])\n",
    "df['Snow'] = scaler.transform(df[['Snow']])\n",
    "scaler.fit(df[['Rain']])\n",
    "df['Rain'] = scaler.transform(df[['Rain']])\n",
    "scaler.fit(df[['Sunny']])\n",
    "df['Sunny'] = scaler.transform(df[['Sunny']])\n",
    "scaler.fit(df[['Cloudy']])\n",
    "df['Cloudy'] = scaler.transform(df[['Cloudy']])\n",
    "scaler.fit(df[['Homicides']])\n",
    "df['Homicides'] = scaler.transform(df[['Homicides']])\n",
    "scaler.fit(df[['Assaults']])\n",
    "df['Assaults'] = scaler.transform(df[['Assaults']])\n",
    "scaler.fit(df[['Battery']])\n",
    "df['Battery'] = scaler.transform(df[['Battery']])\n",
    "scaler.fit(df[['Robbery']])\n",
    "df['Robbery'] = scaler.transform(df[['Robbery']])\n",
    "scaler.fit(df[['Kidnapping']])\n",
    "df['Kidnapping'] = scaler.transform(df[['Kidnapping']])\n",
    "scaler.fit(df[['Rapes']])\n",
    "df['Rapes'] = scaler.transform(df[['Rapes']])\n",
    "scaler.fit(df[['VCrimes']])\n",
    "df['VCrimes'] = scaler.transform(df[['VCrimes']])\n",
    "# Print.\n",
    "df.head()"
   ]
  },
  {
   "cell_type": "code",
   "execution_count": 6,
   "metadata": {},
   "outputs": [
    {
     "data": {
      "text/html": [
       "<div>\n",
       "<style scoped>\n",
       "    .dataframe tbody tr th:only-of-type {\n",
       "        vertical-align: middle;\n",
       "    }\n",
       "\n",
       "    .dataframe tbody tr th {\n",
       "        vertical-align: top;\n",
       "    }\n",
       "\n",
       "    .dataframe thead th {\n",
       "        text-align: right;\n",
       "    }\n",
       "</style>\n",
       "<table border=\"1\" class=\"dataframe\">\n",
       "  <thead>\n",
       "    <tr style=\"text-align: right;\">\n",
       "      <th></th>\n",
       "      <th>Date</th>\n",
       "      <th>Temp</th>\n",
       "      <th>Humidity</th>\n",
       "      <th>Wind</th>\n",
       "      <th>Fog</th>\n",
       "      <th>Snow</th>\n",
       "      <th>Rain</th>\n",
       "      <th>Sunny</th>\n",
       "      <th>Cloudy</th>\n",
       "      <th>Homicides</th>\n",
       "      <th>Assaults</th>\n",
       "      <th>Battery</th>\n",
       "      <th>Robbery</th>\n",
       "      <th>Kidnapping</th>\n",
       "      <th>Rapes</th>\n",
       "      <th>VCrimes</th>\n",
       "    </tr>\n",
       "  </thead>\n",
       "  <tbody>\n",
       "    <tr>\n",
       "      <th>count</th>\n",
       "      <td>730.000000</td>\n",
       "      <td>730.000000</td>\n",
       "      <td>730.000000</td>\n",
       "      <td>730.000000</td>\n",
       "      <td>730.000000</td>\n",
       "      <td>730.000000</td>\n",
       "      <td>730.000000</td>\n",
       "      <td>730.000000</td>\n",
       "      <td>730.000000</td>\n",
       "      <td>730.000000</td>\n",
       "      <td>730.000000</td>\n",
       "      <td>730.000000</td>\n",
       "      <td>730.000000</td>\n",
       "      <td>730.000000</td>\n",
       "      <td>730.000000</td>\n",
       "      <td>730.000000</td>\n",
       "    </tr>\n",
       "    <tr>\n",
       "      <th>mean</th>\n",
       "      <td>42004.500000</td>\n",
       "      <td>0.607746</td>\n",
       "      <td>0.908521</td>\n",
       "      <td>0.313894</td>\n",
       "      <td>0.084932</td>\n",
       "      <td>0.031507</td>\n",
       "      <td>0.154795</td>\n",
       "      <td>0.450685</td>\n",
       "      <td>0.278082</td>\n",
       "      <td>0.125753</td>\n",
       "      <td>0.420461</td>\n",
       "      <td>0.396378</td>\n",
       "      <td>0.392548</td>\n",
       "      <td>0.113151</td>\n",
       "      <td>0.082161</td>\n",
       "      <td>0.483120</td>\n",
       "    </tr>\n",
       "    <tr>\n",
       "      <th>std</th>\n",
       "      <td>210.877136</td>\n",
       "      <td>0.225905</td>\n",
       "      <td>0.106425</td>\n",
       "      <td>0.168117</td>\n",
       "      <td>0.278971</td>\n",
       "      <td>0.174803</td>\n",
       "      <td>0.361957</td>\n",
       "      <td>0.497903</td>\n",
       "      <td>0.448361</td>\n",
       "      <td>0.126230</td>\n",
       "      <td>0.163453</td>\n",
       "      <td>0.154428</td>\n",
       "      <td>0.146421</td>\n",
       "      <td>0.146910</td>\n",
       "      <td>0.066070</td>\n",
       "      <td>0.154899</td>\n",
       "    </tr>\n",
       "    <tr>\n",
       "      <th>min</th>\n",
       "      <td>41640.000000</td>\n",
       "      <td>0.000000</td>\n",
       "      <td>0.000000</td>\n",
       "      <td>0.000000</td>\n",
       "      <td>0.000000</td>\n",
       "      <td>0.000000</td>\n",
       "      <td>0.000000</td>\n",
       "      <td>0.000000</td>\n",
       "      <td>0.000000</td>\n",
       "      <td>0.000000</td>\n",
       "      <td>0.000000</td>\n",
       "      <td>0.000000</td>\n",
       "      <td>0.000000</td>\n",
       "      <td>0.000000</td>\n",
       "      <td>0.000000</td>\n",
       "      <td>0.000000</td>\n",
       "    </tr>\n",
       "    <tr>\n",
       "      <th>25%</th>\n",
       "      <td>41822.250000</td>\n",
       "      <td>0.425357</td>\n",
       "      <td>0.860000</td>\n",
       "      <td>0.214286</td>\n",
       "      <td>0.000000</td>\n",
       "      <td>0.000000</td>\n",
       "      <td>0.000000</td>\n",
       "      <td>0.000000</td>\n",
       "      <td>0.000000</td>\n",
       "      <td>0.000000</td>\n",
       "      <td>0.301587</td>\n",
       "      <td>0.287958</td>\n",
       "      <td>0.300000</td>\n",
       "      <td>0.000000</td>\n",
       "      <td>0.045455</td>\n",
       "      <td>0.386454</td>\n",
       "    </tr>\n",
       "    <tr>\n",
       "      <th>50%</th>\n",
       "      <td>42004.500000</td>\n",
       "      <td>0.624679</td>\n",
       "      <td>0.940000</td>\n",
       "      <td>0.285714</td>\n",
       "      <td>0.000000</td>\n",
       "      <td>0.000000</td>\n",
       "      <td>0.000000</td>\n",
       "      <td>0.000000</td>\n",
       "      <td>0.000000</td>\n",
       "      <td>0.100000</td>\n",
       "      <td>0.428571</td>\n",
       "      <td>0.382199</td>\n",
       "      <td>0.400000</td>\n",
       "      <td>0.000000</td>\n",
       "      <td>0.068182</td>\n",
       "      <td>0.470120</td>\n",
       "    </tr>\n",
       "    <tr>\n",
       "      <th>75%</th>\n",
       "      <td>42186.750000</td>\n",
       "      <td>0.803388</td>\n",
       "      <td>1.000000</td>\n",
       "      <td>0.428571</td>\n",
       "      <td>0.000000</td>\n",
       "      <td>0.000000</td>\n",
       "      <td>0.000000</td>\n",
       "      <td>1.000000</td>\n",
       "      <td>1.000000</td>\n",
       "      <td>0.200000</td>\n",
       "      <td>0.539683</td>\n",
       "      <td>0.476440</td>\n",
       "      <td>0.480000</td>\n",
       "      <td>0.200000</td>\n",
       "      <td>0.113636</td>\n",
       "      <td>0.572709</td>\n",
       "    </tr>\n",
       "    <tr>\n",
       "      <th>max</th>\n",
       "      <td>42369.000000</td>\n",
       "      <td>1.000000</td>\n",
       "      <td>1.000000</td>\n",
       "      <td>1.000000</td>\n",
       "      <td>1.000000</td>\n",
       "      <td>1.000000</td>\n",
       "      <td>1.000000</td>\n",
       "      <td>1.000000</td>\n",
       "      <td>1.000000</td>\n",
       "      <td>1.000000</td>\n",
       "      <td>1.000000</td>\n",
       "      <td>1.000000</td>\n",
       "      <td>1.000000</td>\n",
       "      <td>1.000000</td>\n",
       "      <td>1.000000</td>\n",
       "      <td>1.000000</td>\n",
       "    </tr>\n",
       "  </tbody>\n",
       "</table>\n",
       "</div>"
      ],
      "text/plain": [
       "               Date        Temp    Humidity        Wind         Fog  \\\n",
       "count    730.000000  730.000000  730.000000  730.000000  730.000000   \n",
       "mean   42004.500000    0.607746    0.908521    0.313894    0.084932   \n",
       "std      210.877136    0.225905    0.106425    0.168117    0.278971   \n",
       "min    41640.000000    0.000000    0.000000    0.000000    0.000000   \n",
       "25%    41822.250000    0.425357    0.860000    0.214286    0.000000   \n",
       "50%    42004.500000    0.624679    0.940000    0.285714    0.000000   \n",
       "75%    42186.750000    0.803388    1.000000    0.428571    0.000000   \n",
       "max    42369.000000    1.000000    1.000000    1.000000    1.000000   \n",
       "\n",
       "             Snow        Rain       Sunny      Cloudy   Homicides    Assaults  \\\n",
       "count  730.000000  730.000000  730.000000  730.000000  730.000000  730.000000   \n",
       "mean     0.031507    0.154795    0.450685    0.278082    0.125753    0.420461   \n",
       "std      0.174803    0.361957    0.497903    0.448361    0.126230    0.163453   \n",
       "min      0.000000    0.000000    0.000000    0.000000    0.000000    0.000000   \n",
       "25%      0.000000    0.000000    0.000000    0.000000    0.000000    0.301587   \n",
       "50%      0.000000    0.000000    0.000000    0.000000    0.100000    0.428571   \n",
       "75%      0.000000    0.000000    1.000000    1.000000    0.200000    0.539683   \n",
       "max      1.000000    1.000000    1.000000    1.000000    1.000000    1.000000   \n",
       "\n",
       "          Battery     Robbery  Kidnapping       Rapes     VCrimes  \n",
       "count  730.000000  730.000000  730.000000  730.000000  730.000000  \n",
       "mean     0.396378    0.392548    0.113151    0.082161    0.483120  \n",
       "std      0.154428    0.146421    0.146910    0.066070    0.154899  \n",
       "min      0.000000    0.000000    0.000000    0.000000    0.000000  \n",
       "25%      0.287958    0.300000    0.000000    0.045455    0.386454  \n",
       "50%      0.382199    0.400000    0.000000    0.068182    0.470120  \n",
       "75%      0.476440    0.480000    0.200000    0.113636    0.572709  \n",
       "max      1.000000    1.000000    1.000000    1.000000    1.000000  "
      ]
     },
     "execution_count": 6,
     "metadata": {},
     "output_type": "execute_result"
    }
   ],
   "source": [
    "# Describes the statistical facts for data. \n",
    "df.describe()"
   ]
  },
  {
   "cell_type": "code",
   "execution_count": 7,
   "metadata": {},
   "outputs": [
    {
     "data": {
      "text/plain": [
       "[<matplotlib.lines.Line2D at 0x1e2d241ba30>]"
      ]
     },
     "execution_count": 7,
     "metadata": {},
     "output_type": "execute_result"
    },
    {
     "data": {
      "image/png": "[encoded data removed]",
      "text/plain": [
       "<Figure size 432x288 with 1 Axes>"
      ]
     },
     "metadata": {
      "needs_background": "light"
     },
     "output_type": "display_data"
    }
   ],
   "source": [
    "# Finding the k value.\n",
    "sse = []\n",
    "k_rng = range(1,10)\n",
    "for k in k_rng:\n",
    "    km = KMeans(n_clusters=k)\n",
    "    km.fit(df[['Temp','Humidity','Wind','Fog','Snow','Rain','Sunny','Cloudy','Homicides']])\n",
    "    sse.append(km.inertia_)\n",
    "# Plot results.\n",
    "plt.xlabel('K')\n",
    "plt.ylabel('Sum of squared error')\n",
    "plt.plot(k_rng,sse)"
   ]
  },
  {
   "cell_type": "code",
   "execution_count": 8,
   "metadata": {},
   "outputs": [
    {
     "data": {
      "text/plain": [
       "array([[ 5.87246777e-01,  9.02887538e-01,  2.84628745e-01,\n",
       "        -2.35922393e-16,  6.93889390e-17,  1.11022302e-16,\n",
       "         1.00000000e+00, -2.22044605e-16,  1.29483283e-01],\n",
       "       [ 6.04301083e-01,  8.80541872e-01,  3.37790289e-01,\n",
       "        -1.52655666e-16,  2.08166817e-17,  8.32667268e-17,\n",
       "         5.55111512e-17,  1.00000000e+00,  1.16748768e-01],\n",
       "       [ 5.93731460e-01,  9.48897059e-01,  3.52415966e-01,\n",
       "        -8.32667268e-17,  1.69117647e-01,  8.30882353e-01,\n",
       "         0.00000000e+00,  5.55111512e-17,  1.16911765e-01],\n",
       "       [ 7.58550631e-01,  9.41451613e-01,  3.06451613e-01,\n",
       "         1.00000000e+00, -1.38777878e-17,  5.55111512e-17,\n",
       "         0.00000000e+00,  5.55111512e-17,  1.54838710e-01]])"
      ]
     },
     "execution_count": 8,
     "metadata": {},
     "output_type": "execute_result"
    }
   ],
   "source": [
    "# Performing K-means Clustering.\n",
    "kmeans1 = KMeans(n_clusters=4)\n",
    "y_kmeans1 = kmeans1.fit_predict(df[['Temp','Humidity','Wind','Fog','Snow','Rain','Sunny','Cloudy','Homicides']])\n",
    "# Print the centers.\n",
    "kmeans1.cluster_centers_"
   ]
  },
  {
   "cell_type": "code",
   "execution_count": 9,
   "metadata": {},
   "outputs": [
    {
     "data": {
      "text/plain": [
       "[<matplotlib.lines.Line2D at 0x1e2d25064f0>]"
      ]
     },
     "execution_count": 9,
     "metadata": {},
     "output_type": "execute_result"
    },
    {
     "data": {
      "image/png": "[encoded data removed]",
      "text/plain": [
       "<Figure size 432x288 with 1 Axes>"
      ]
     },
     "metadata": {
      "needs_background": "light"
     },
     "output_type": "display_data"
    }
   ],
   "source": [
    "# Finding the k value.\n",
    "sse = []\n",
    "k_rng = range(1,10)\n",
    "for k in k_rng:\n",
    "    km = KMeans(n_clusters=k)\n",
    "    km.fit(df[['Temp','Humidity','Wind','Fog','Snow','Rain','Sunny','Cloudy','Assaults']])\n",
    "    sse.append(km.inertia_)\n",
    "# Plot results.\n",
    "plt.xlabel('K')\n",
    "plt.ylabel('Sum of squared error')\n",
    "plt.plot(k_rng,sse)"
   ]
  },
  {
   "cell_type": "code",
   "execution_count": 10,
   "metadata": {},
   "outputs": [
    {
     "data": {
      "text/plain": [
       "array([[ 6.37646122e-01,  9.55529412e-01,  3.27731092e-01,\n",
       "         7.29411765e-01,  2.70588235e-01,  5.55111512e-17,\n",
       "         0.00000000e+00,  5.55111512e-17,  3.95891690e-01],\n",
       "       [ 5.87246777e-01,  9.02887538e-01,  2.84628745e-01,\n",
       "        -2.35922393e-16,  6.93889390e-17,  1.11022302e-16,\n",
       "         1.00000000e+00, -2.22044605e-16,  4.25001206e-01],\n",
       "       [ 6.04301083e-01,  8.80541872e-01,  3.37790289e-01,\n",
       "        -1.52655666e-16,  2.08166817e-17,  8.32667268e-17,\n",
       "         5.55111512e-17,  1.00000000e+00,  4.07381343e-01],\n",
       "       [ 6.51130065e-01,  9.39823009e-01,  3.45764855e-01,\n",
       "        -1.38777878e-17, -1.38777878e-17,  1.00000000e+00,\n",
       "         0.00000000e+00,  1.11022302e-16,  4.49220396e-01]])"
      ]
     },
     "execution_count": 10,
     "metadata": {},
     "output_type": "execute_result"
    }
   ],
   "source": [
    "# Performing K-means Clustering.\n",
    "kmeans2 = KMeans(n_clusters=4)\n",
    "y_kmeans2 = kmeans2.fit_predict(df[['Temp','Humidity','Wind','Fog','Snow','Rain','Sunny','Cloudy','Assaults']])\n",
    "# Print the centers.\n",
    "kmeans2.cluster_centers_"
   ]
  },
  {
   "cell_type": "code",
   "execution_count": 11,
   "metadata": {},
   "outputs": [
    {
     "data": {
      "text/plain": [
       "[<matplotlib.lines.Line2D at 0x1e2d2569460>]"
      ]
     },
     "execution_count": 11,
     "metadata": {},
     "output_type": "execute_result"
    },
    {
     "data": {
      "image/png": "[encoded data removed]",
      "text/plain": [
       "<Figure size 432x288 with 1 Axes>"
      ]
     },
     "metadata": {
      "needs_background": "light"
     },
     "output_type": "display_data"
    }
   ],
   "source": [
    "# Finding the k value.\n",
    "sse = []\n",
    "k_rng = range(1,10)\n",
    "for k in k_rng:\n",
    "    km = KMeans(n_clusters=k)\n",
    "    km.fit(df[['Temp','Humidity','Wind','Fog','Snow','Rain','Sunny','Cloudy','Battery']])\n",
    "    sse.append(km.inertia_)\n",
    "# Plot results.\n",
    "plt.xlabel('K')\n",
    "plt.ylabel('Sum of squared error')\n",
    "plt.plot(k_rng,sse)"
   ]
  },
  {
   "cell_type": "code",
   "execution_count": 12,
   "metadata": {},
   "outputs": [
    {
     "data": {
      "text/plain": [
       "array([[ 6.04301083e-01,  8.80541872e-01,  3.37790289e-01,\n",
       "        -1.52655666e-16,  2.08166817e-17,  8.32667268e-17,\n",
       "         5.55111512e-17,  1.00000000e+00,  3.82482655e-01],\n",
       "       [ 5.87246777e-01,  9.02887538e-01,  2.84628745e-01,\n",
       "        -2.35922393e-16,  6.93889390e-17,  1.11022302e-16,\n",
       "         1.00000000e+00, -2.22044605e-16,  4.07119782e-01],\n",
       "       [ 6.51130065e-01,  9.39823009e-01,  3.45764855e-01,\n",
       "        -1.38777878e-17, -1.38777878e-17,  1.00000000e+00,\n",
       "         0.00000000e+00,  1.11022302e-16,  4.01797711e-01],\n",
       "       [ 6.37646122e-01,  9.55529412e-01,  3.27731092e-01,\n",
       "         7.29411765e-01,  2.70588235e-01,  5.55111512e-17,\n",
       "         0.00000000e+00,  5.55111512e-17,  3.80782261e-01]])"
      ]
     },
     "execution_count": 12,
     "metadata": {},
     "output_type": "execute_result"
    }
   ],
   "source": [
    "# Performing K-means Clustering.\n",
    "kmeans3 = KMeans(n_clusters=4)\n",
    "y_kmeans3 = kmeans3.fit_predict(df[['Temp','Humidity','Wind','Fog','Snow','Rain','Sunny','Cloudy','Battery']])\n",
    "# Print the centers.\n",
    "kmeans3.cluster_centers_"
   ]
  },
  {
   "cell_type": "code",
   "execution_count": 13,
   "metadata": {},
   "outputs": [
    {
     "data": {
      "text/plain": [
       "[<matplotlib.lines.Line2D at 0x1e2d25c7040>]"
      ]
     },
     "execution_count": 13,
     "metadata": {},
     "output_type": "execute_result"
    },
    {
     "data": {
      "image/png": "[encoded data removed]",
      "text/plain": [
       "<Figure size 432x288 with 1 Axes>"
      ]
     },
     "metadata": {
      "needs_background": "light"
     },
     "output_type": "display_data"
    }
   ],
   "source": [
    "# Finding the k value.\n",
    "sse = []\n",
    "k_rng = range(1,10)\n",
    "for k in k_rng:\n",
    "    km = KMeans(n_clusters=k)\n",
    "    km.fit(df[['Temp','Humidity','Wind','Fog','Snow','Rain','Sunny','Cloudy','Robbery']])\n",
    "    sse.append(km.inertia_)\n",
    "# Plot results.\n",
    "plt.xlabel('K')\n",
    "plt.ylabel('Sum of squared error')\n",
    "plt.plot(k_rng,sse)"
   ]
  },
  {
   "cell_type": "code",
   "execution_count": 14,
   "metadata": {},
   "outputs": [
    {
     "data": {
      "text/plain": [
       "array([[ 6.51130065e-01,  9.39823009e-01,  3.45764855e-01,\n",
       "        -1.38777878e-17, -1.38777878e-17,  1.00000000e+00,\n",
       "         0.00000000e+00,  1.11022302e-16,  3.95575221e-01],\n",
       "       [ 5.87246777e-01,  9.02887538e-01,  2.84628745e-01,\n",
       "        -2.35922393e-16,  6.93889390e-17,  1.11022302e-16,\n",
       "         1.00000000e+00, -2.22044605e-16,  3.88936170e-01],\n",
       "       [ 6.04301083e-01,  8.80541872e-01,  3.37790289e-01,\n",
       "        -1.52655666e-16,  2.08166817e-17,  8.32667268e-17,\n",
       "         5.55111512e-17,  1.00000000e+00,  3.93300493e-01],\n",
       "       [ 6.37646122e-01,  9.55529412e-01,  3.27731092e-01,\n",
       "         7.29411765e-01,  2.70588235e-01,  5.55111512e-17,\n",
       "         0.00000000e+00,  5.55111512e-17,  4.00705882e-01]])"
      ]
     },
     "execution_count": 14,
     "metadata": {},
     "output_type": "execute_result"
    }
   ],
   "source": [
    "# Performing K-means Clustering.\n",
    "kmeans4 = KMeans(n_clusters=4)\n",
    "y_kmeans4 = kmeans4.fit_predict(df[['Temp','Humidity','Wind','Fog','Snow','Rain','Sunny','Cloudy','Robbery']])\n",
    "# Print the centers.\n",
    "kmeans4.cluster_centers_"
   ]
  },
  {
   "cell_type": "code",
   "execution_count": 15,
   "metadata": {},
   "outputs": [
    {
     "data": {
      "text/plain": [
       "[<matplotlib.lines.Line2D at 0x1e2d261ac10>]"
      ]
     },
     "execution_count": 15,
     "metadata": {},
     "output_type": "execute_result"
    },
    {
     "data": {
      "image/png": "[encoded data removed]",
      "text/plain": [
       "<Figure size 432x288 with 1 Axes>"
      ]
     },
     "metadata": {
      "needs_background": "light"
     },
     "output_type": "display_data"
    }
   ],
   "source": [
    "# Finding the k value.\n",
    "sse = []\n",
    "k_rng = range(1,10)\n",
    "for k in k_rng:\n",
    "    km = KMeans(n_clusters=k)\n",
    "    km.fit(df[['Temp','Humidity','Wind','Fog','Snow','Rain','Sunny','Cloudy','Kidnapping']])\n",
    "    sse.append(km.inertia_)\n",
    "# Plot results.\n",
    "plt.xlabel('K')\n",
    "plt.ylabel('Sum of squared error')\n",
    "plt.plot(k_rng,sse)"
   ]
  },
  {
   "cell_type": "code",
   "execution_count": 16,
   "metadata": {},
   "outputs": [
    {
     "data": {
      "text/plain": [
       "array([[ 6.04301083e-01,  8.80541872e-01,  3.37790289e-01,\n",
       "        -1.52655666e-16,  1.38777878e-17,  8.32667268e-17,\n",
       "         5.55111512e-17,  1.00000000e+00,  1.23152709e-01],\n",
       "       [ 5.87246777e-01,  9.02887538e-01,  2.84628745e-01,\n",
       "        -2.35922393e-16,  6.93889390e-17,  1.11022302e-16,\n",
       "         1.00000000e+00, -2.22044605e-16,  1.12462006e-01],\n",
       "       [ 6.51130065e-01,  9.39823009e-01,  3.45764855e-01,\n",
       "         0.00000000e+00, -1.38777878e-17,  1.00000000e+00,\n",
       "         0.00000000e+00,  1.11022302e-16,  9.20353982e-02],\n",
       "       [ 6.37646122e-01,  9.55529412e-01,  3.27731092e-01,\n",
       "         7.29411765e-01,  2.70588235e-01,  5.55111512e-17,\n",
       "         0.00000000e+00,  5.55111512e-17,  1.20000000e-01]])"
      ]
     },
     "execution_count": 16,
     "metadata": {},
     "output_type": "execute_result"
    }
   ],
   "source": [
    "# Performing K-means Clustering.\n",
    "kmeans5 = KMeans(n_clusters=4)\n",
    "y_kmeans5 = kmeans5.fit_predict(df[['Temp','Humidity','Wind','Fog','Snow','Rain','Sunny','Cloudy','Kidnapping']])\n",
    "# Print the centers.\n",
    "kmeans5.cluster_centers_"
   ]
  },
  {
   "cell_type": "code",
   "execution_count": 17,
   "metadata": {},
   "outputs": [
    {
     "data": {
      "text/plain": [
       "[<matplotlib.lines.Line2D at 0x1e2d25de2b0>]"
      ]
     },
     "execution_count": 17,
     "metadata": {},
     "output_type": "execute_result"
    },
    {
     "data": {
      "image/png": "[encoded data removed]",
      "text/plain": [
       "<Figure size 432x288 with 1 Axes>"
      ]
     },
     "metadata": {
      "needs_background": "light"
     },
     "output_type": "display_data"
    }
   ],
   "source": [
    "# Finding the k value.\n",
    "sse = []\n",
    "k_rng = range(1,10)\n",
    "for k in k_rng:\n",
    "    km = KMeans(n_clusters=k)\n",
    "    km.fit(df[['Temp','Humidity','Wind','Fog','Snow','Rain','Sunny','Cloudy','Rapes']])\n",
    "    sse.append(km.inertia_)\n",
    "# Plot results.\n",
    "plt.xlabel('K')\n",
    "plt.ylabel('Sum of squared error')\n",
    "plt.plot(k_rng,sse)"
   ]
  },
  {
   "cell_type": "code",
   "execution_count": 18,
   "metadata": {},
   "outputs": [
    {
     "data": {
      "text/plain": [
       "array([[ 7.58550631e-01,  9.41451613e-01,  3.06451613e-01,\n",
       "         1.00000000e+00, -1.38777878e-17,  5.55111512e-17,\n",
       "         0.00000000e+00,  5.55111512e-17,  9.53079179e-02],\n",
       "       [ 5.87246777e-01,  9.02887538e-01,  2.84628745e-01,\n",
       "        -2.35922393e-16,  6.93889390e-17,  1.11022302e-16,\n",
       "         1.00000000e+00, -2.22044605e-16,  8.71787787e-02],\n",
       "       [ 6.04301083e-01,  8.80541872e-01,  3.37790289e-01,\n",
       "        -1.52655666e-16,  1.38777878e-17,  8.32667268e-17,\n",
       "         5.55111512e-17,  1.00000000e+00,  7.51231527e-02],\n",
       "       [ 5.93731460e-01,  9.48897059e-01,  3.52415966e-01,\n",
       "        -8.32667268e-17,  1.69117647e-01,  8.30882353e-01,\n",
       "         0.00000000e+00,  5.55111512e-17,  7.45320856e-02]])"
      ]
     },
     "execution_count": 18,
     "metadata": {},
     "output_type": "execute_result"
    }
   ],
   "source": [
    "# Performing K-means Clustering.\n",
    "kmeans6 = KMeans(n_clusters=4)\n",
    "y_kmeans6 = kmeans6.fit_predict(df[['Temp','Humidity','Wind','Fog','Snow','Rain','Sunny','Cloudy','Rapes']])\n",
    "# Print the centers.\n",
    "kmeans6.cluster_centers_"
   ]
  },
  {
   "cell_type": "code",
   "execution_count": 19,
   "metadata": {},
   "outputs": [
    {
     "data": {
      "text/plain": [
       "[<matplotlib.lines.Line2D at 0x1e2d26cd7f0>]"
      ]
     },
     "execution_count": 19,
     "metadata": {},
     "output_type": "execute_result"
    },
    {
     "data": {
      "image/png": "[encoded data removed]",
      "text/plain": [
       "<Figure size 432x288 with 1 Axes>"
      ]
     },
     "metadata": {
      "needs_background": "light"
     },
     "output_type": "display_data"
    }
   ],
   "source": [
    "# Finding the k value.\n",
    "sse = []\n",
    "k_rng = range(1,10)\n",
    "for k in k_rng:\n",
    "    km = KMeans(n_clusters=k)\n",
    "    km.fit(df[['Temp','Humidity','Wind','Fog','Snow','Rain','Sunny','Cloudy','VCrimes']])\n",
    "    sse.append(km.inertia_)\n",
    "# Plot results.\n",
    "plt.xlabel('K')\n",
    "plt.ylabel('Sum of squared error')\n",
    "plt.plot(k_rng,sse)"
   ]
  },
  {
   "cell_type": "code",
   "execution_count": 20,
   "metadata": {},
   "outputs": [
    {
     "data": {
      "text/plain": [
       "array([[ 5.87246777e-01,  9.02887538e-01,  2.84628745e-01,\n",
       "        -2.35922393e-16,  6.93889390e-17,  1.11022302e-16,\n",
       "         1.00000000e+00, -2.22044605e-16,  4.92728175e-01],\n",
       "       [ 6.37646122e-01,  9.55529412e-01,  3.27731092e-01,\n",
       "         7.29411765e-01,  2.70588235e-01,  5.55111512e-17,\n",
       "         0.00000000e+00,  5.55111512e-17,  4.68432154e-01],\n",
       "       [ 6.04301083e-01,  8.80541872e-01,  3.37790289e-01,\n",
       "        -1.52655666e-16,  2.08166817e-17,  8.32667268e-17,\n",
       "         5.55111512e-17,  1.00000000e+00,  4.68019547e-01],\n",
       "       [ 6.51130065e-01,  9.39823009e-01,  3.45764855e-01,\n",
       "        -1.38777878e-17, -1.38777878e-17,  1.00000000e+00,\n",
       "         0.00000000e+00,  1.11022302e-16,  4.93318760e-01]])"
      ]
     },
     "execution_count": 20,
     "metadata": {},
     "output_type": "execute_result"
    }
   ],
   "source": [
    "# Performing K-means Clustering.\n",
    "kmeans7 = KMeans(n_clusters=4)\n",
    "y_kmeans7 = kmeans7.fit_predict(df[['Temp','Humidity','Wind','Fog','Snow','Rain','Sunny','Cloudy','VCrimes']])\n",
    "# Print the centers.\n",
    "kmeans7.cluster_centers_"
   ]
  },
  {
   "cell_type": "code",
   "execution_count": 21,
   "metadata": {},
   "outputs": [
    {
     "name": "stdout",
     "output_type": "stream",
     "text": [
      "Cluster 1: \n",
      "----------\n",
      "Temp, Humidity, Wind, Fog, Snow, Rain, Sunny, Cloudy, Homicides\n",
      "0.65113, 0.93982, 0.34576, -0.0, -0.0, 1.0, 0.0, 0.0, 0.11947, \n",
      "Cluster 2: \n",
      "----------\n",
      "Temp, Humidity, Wind, Fog, Snow, Rain, Sunny, Cloudy, Homicides\n",
      "0.58725, 0.90289, 0.28463, -0.0, 0.0, 0.0, 1.0, -0.0, 0.12948, \n",
      "Cluster 3: \n",
      "----------\n",
      "Temp, Humidity, Wind, Fog, Snow, Rain, Sunny, Cloudy, Homicides\n",
      "0.6043, 0.88054, 0.33779, -0.0, 0.0, 0.0, 0.0, 1.0, 0.11675, \n",
      "Cluster 4: \n",
      "----------\n",
      "Temp, Humidity, Wind, Fog, Snow, Rain, Sunny, Cloudy, Homicides\n",
      "0.63765, 0.95553, 0.32773, 0.72941, 0.27059, 0.0, 0.0, 0.0, 0.14118, \n"
     ]
    }
   ],
   "source": [
    "centers1 = [[ 6.51130065e-01,  9.39823009e-01,  3.45764855e-01,\n",
    "        -1.38777878e-17, -1.38777878e-17,  1.00000000e+00,\n",
    "         0.00000000e+00,  1.11022302e-16,  1.19469027e-01],\n",
    "       [ 5.87246777e-01,  9.02887538e-01,  2.84628745e-01,\n",
    "        -2.35922393e-16,  6.93889390e-17,  1.11022302e-16,\n",
    "         1.00000000e+00, -2.22044605e-16,  1.29483283e-01],\n",
    "       [ 6.04301083e-01,  8.80541872e-01,  3.37790289e-01,\n",
    "        -1.52655666e-16,  2.08166817e-17,  8.32667268e-17,\n",
    "         5.55111512e-17,  1.00000000e+00,  1.16748768e-01],\n",
    "       [ 6.37646122e-01,  9.55529412e-01,  3.27731092e-01,\n",
    "         7.29411765e-01,  2.70588235e-01,  5.55111512e-17,\n",
    "         0.00000000e+00,  5.55111512e-17,  1.41176471e-01]]\n",
    "\n",
    "for i in range(len(centers1)):\n",
    "    print(\"Cluster \" + str(i+1) + \": \")\n",
    "    print(\"----------\")\n",
    "    print(\"Temp, Humidity, Wind, Fog, Snow, Rain, Sunny, Cloudy, Homicides\")\n",
    "    for j in range(len(centers1[i])):\n",
    "        print(str(round(centers1[i][j],5)), end=\", \")\n",
    "    print()"
   ]
  },
  {
   "cell_type": "code",
   "execution_count": 22,
   "metadata": {},
   "outputs": [
    {
     "name": "stdout",
     "output_type": "stream",
     "text": [
      "Cluster 1: \n",
      "----------\n",
      "Temp, Humidity, Wind, Fog, Snow, Rain, Sunny, Cloudy, Assaults\n",
      "0.6043, 0.88054, 0.33779, -0.0, 0.0, 0.0, 0.0, 1.0, 0.40738, \n",
      "Cluster 2: \n",
      "----------\n",
      "Temp, Humidity, Wind, Fog, Snow, Rain, Sunny, Cloudy, Assaults\n",
      "0.58725, 0.90289, 0.28463, -0.0, 0.0, 0.0, 1.0, -0.0, 0.425, \n",
      "Cluster 3: \n",
      "----------\n",
      "Temp, Humidity, Wind, Fog, Snow, Rain, Sunny, Cloudy, Assaults\n",
      "0.65113, 0.93982, 0.34576, -0.0, -0.0, 1.0, 0.0, 0.0, 0.44922, \n",
      "Cluster 4: \n",
      "----------\n",
      "Temp, Humidity, Wind, Fog, Snow, Rain, Sunny, Cloudy, Assaults\n",
      "0.63765, 0.95553, 0.32773, 0.72941, 0.27059, 0.0, 0.0, 0.0, 0.39589, \n"
     ]
    }
   ],
   "source": [
    "centers2 = [[ 6.04301083e-01,  8.80541872e-01,  3.37790289e-01,\n",
    "        -1.52655666e-16,  2.08166817e-17,  8.32667268e-17,\n",
    "         5.55111512e-17,  1.00000000e+00,  4.07381343e-01],\n",
    "       [ 5.87246777e-01,  9.02887538e-01,  2.84628745e-01,\n",
    "        -2.35922393e-16,  6.93889390e-17,  1.11022302e-16,\n",
    "         1.00000000e+00, -2.22044605e-16,  4.25001206e-01],\n",
    "       [ 6.51130065e-01,  9.39823009e-01,  3.45764855e-01,\n",
    "        -1.38777878e-17, -1.38777878e-17,  1.00000000e+00,\n",
    "         0.00000000e+00,  1.11022302e-16,  4.49220396e-01],\n",
    "       [ 6.37646122e-01,  9.55529412e-01,  3.27731092e-01,\n",
    "         7.29411765e-01,  2.70588235e-01,  5.55111512e-17,\n",
    "         0.00000000e+00,  5.55111512e-17,  3.95891690e-01]]\n",
    "\n",
    "for i in range(len(centers2)):\n",
    "    print(\"Cluster \" + str(i+1) + \": \")\n",
    "    print(\"----------\")\n",
    "    print(\"Temp, Humidity, Wind, Fog, Snow, Rain, Sunny, Cloudy, Assaults\")\n",
    "    for j in range(len(centers2[i])):\n",
    "        print(str(round(centers2[i][j],5)), end=\", \")\n",
    "    print()"
   ]
  },
  {
   "cell_type": "code",
   "execution_count": 23,
   "metadata": {},
   "outputs": [
    {
     "name": "stdout",
     "output_type": "stream",
     "text": [
      "Cluster 1: \n",
      "----------\n",
      "Temp, Humidity, Wind, Fog, Snow, Rain, Sunny, Cloudy, Battery\n",
      "0.63765, 0.95553, 0.32773, 0.72941, 0.27059, 0.0, 0.0, 0.0, 0.38078, \n",
      "Cluster 2: \n",
      "----------\n",
      "Temp, Humidity, Wind, Fog, Snow, Rain, Sunny, Cloudy, Battery\n",
      "0.58725, 0.90289, 0.28463, -0.0, 0.0, 0.0, 1.0, -0.0, 0.40712, \n",
      "Cluster 3: \n",
      "----------\n",
      "Temp, Humidity, Wind, Fog, Snow, Rain, Sunny, Cloudy, Battery\n",
      "0.65113, 0.93982, 0.34576, -0.0, -0.0, 1.0, 0.0, 0.0, 0.4018, \n",
      "Cluster 4: \n",
      "----------\n",
      "Temp, Humidity, Wind, Fog, Snow, Rain, Sunny, Cloudy, Battery\n",
      "0.6043, 0.88054, 0.33779, -0.0, 0.0, 0.0, 0.0, 1.0, 0.38248, \n"
     ]
    }
   ],
   "source": [
    "centers3 = [[ 6.37646122e-01,  9.55529412e-01,  3.27731092e-01,\n",
    "         7.29411765e-01,  2.70588235e-01,  5.55111512e-17,\n",
    "         0.00000000e+00,  5.55111512e-17,  3.80782261e-01],\n",
    "       [ 5.87246777e-01,  9.02887538e-01,  2.84628745e-01,\n",
    "        -2.35922393e-16,  6.93889390e-17,  1.11022302e-16,\n",
    "         1.00000000e+00, -2.22044605e-16,  4.07119782e-01],\n",
    "       [ 6.51130065e-01,  9.39823009e-01,  3.45764855e-01,\n",
    "        -1.38777878e-17, -1.38777878e-17,  1.00000000e+00,\n",
    "         0.00000000e+00,  1.11022302e-16,  4.01797711e-01],\n",
    "       [ 6.04301083e-01,  8.80541872e-01,  3.37790289e-01,\n",
    "        -1.52655666e-16,  2.08166817e-17,  8.32667268e-17,\n",
    "         5.55111512e-17,  1.00000000e+00,  3.82482655e-01]]\n",
    "\n",
    "for i in range(len(centers3)):\n",
    "    print(\"Cluster \" + str(i+1) + \": \")\n",
    "    print(\"----------\")\n",
    "    print(\"Temp, Humidity, Wind, Fog, Snow, Rain, Sunny, Cloudy, Battery\")\n",
    "    for j in range(len(centers3[i])):\n",
    "        print(str(round(centers3[i][j],5)), end=\", \")\n",
    "    print()"
   ]
  },
  {
   "cell_type": "code",
   "execution_count": 24,
   "metadata": {},
   "outputs": [
    {
     "name": "stdout",
     "output_type": "stream",
     "text": [
      "Cluster 1: \n",
      "----------\n",
      "Temp, Humidity, Wind, Fog, Snow, Rain, Sunny, Cloudy, Robbery\n",
      "0.63765, 0.95553, 0.32773, 0.72941, 0.27059, 0.0, 0.0, 0.0, 0.40071, \n",
      "Cluster 2: \n",
      "----------\n",
      "Temp, Humidity, Wind, Fog, Snow, Rain, Sunny, Cloudy, Robbery\n",
      "0.58725, 0.90289, 0.28463, -0.0, 0.0, 0.0, 1.0, -0.0, 0.38894, \n",
      "Cluster 3: \n",
      "----------\n",
      "Temp, Humidity, Wind, Fog, Snow, Rain, Sunny, Cloudy, Robbery\n",
      "0.6043, 0.88054, 0.33779, -0.0, 0.0, 0.0, 0.0, 1.0, 0.3933, \n",
      "Cluster 4: \n",
      "----------\n",
      "Temp, Humidity, Wind, Fog, Snow, Rain, Sunny, Cloudy, Robbery\n",
      "0.65113, 0.93982, 0.34576, -0.0, -0.0, 1.0, 0.0, 0.0, 0.39558, \n"
     ]
    }
   ],
   "source": [
    "centers4 = [[ 6.37646122e-01,  9.55529412e-01,  3.27731092e-01,\n",
    "         7.29411765e-01,  2.70588235e-01,  5.55111512e-17,\n",
    "         0.00000000e+00,  5.55111512e-17,  4.00705882e-01],\n",
    "       [ 5.87246777e-01,  9.02887538e-01,  2.84628745e-01,\n",
    "        -2.35922393e-16,  6.93889390e-17,  1.11022302e-16,\n",
    "         1.00000000e+00, -2.22044605e-16,  3.88936170e-01],\n",
    "       [ 6.04301083e-01,  8.80541872e-01,  3.37790289e-01,\n",
    "        -1.52655666e-16,  2.08166817e-17,  8.32667268e-17,\n",
    "         5.55111512e-17,  1.00000000e+00,  3.93300493e-01],\n",
    "       [ 6.51130065e-01,  9.39823009e-01,  3.45764855e-01,\n",
    "        -1.38777878e-17, -1.38777878e-17,  1.00000000e+00,\n",
    "         0.00000000e+00,  1.11022302e-16,  3.95575221e-01]]\n",
    "\n",
    "for i in range(len(centers4)):\n",
    "    print(\"Cluster \" + str(i+1) + \": \")\n",
    "    print(\"----------\")\n",
    "    print(\"Temp, Humidity, Wind, Fog, Snow, Rain, Sunny, Cloudy, Robbery\")\n",
    "    for j in range(len(centers4[i])):\n",
    "        print(str(round(centers4[i][j],5)), end=\", \")\n",
    "    print()"
   ]
  },
  {
   "cell_type": "code",
   "execution_count": 25,
   "metadata": {},
   "outputs": [
    {
     "name": "stdout",
     "output_type": "stream",
     "text": [
      "Cluster 1: \n",
      "----------\n",
      "Temp, Humidity, Wind, Fog, Snow, Rain, Sunny, Cloudy, Kidnapping\n",
      "0.58725, 0.90289, 0.28463, -0.0, 0.0, 0.0, 1.0, -0.0, 0.11246, \n",
      "Cluster 2: \n",
      "----------\n",
      "Temp, Humidity, Wind, Fog, Snow, Rain, Sunny, Cloudy, Kidnapping\n",
      "0.6043, 0.88054, 0.33779, -0.0, 0.0, 0.0, 0.0, 1.0, 0.12315, \n",
      "Cluster 3: \n",
      "----------\n",
      "Temp, Humidity, Wind, Fog, Snow, Rain, Sunny, Cloudy, Kidnapping\n",
      "0.65113, 0.93982, 0.34576, -0.0, -0.0, 1.0, 0.0, 0.0, 0.09204, \n",
      "Cluster 4: \n",
      "----------\n",
      "Temp, Humidity, Wind, Fog, Snow, Rain, Sunny, Cloudy, Kidnapping\n",
      "0.63765, 0.95553, 0.32773, 0.72941, 0.27059, 0.0, 0.0, 0.0, 0.12, \n"
     ]
    }
   ],
   "source": [
    "centers5 = [[ 5.87246777e-01,  9.02887538e-01,  2.84628745e-01,\n",
    "        -2.35922393e-16,  6.93889390e-17,  1.11022302e-16,\n",
    "         1.00000000e+00, -2.22044605e-16,  1.12462006e-01],\n",
    "       [ 6.04301083e-01,  8.80541872e-01,  3.37790289e-01,\n",
    "        -1.52655666e-16,  2.08166817e-17,  8.32667268e-17,\n",
    "         5.55111512e-17,  1.00000000e+00,  1.23152709e-01],\n",
    "       [ 6.51130065e-01,  9.39823009e-01,  3.45764855e-01,\n",
    "        -1.38777878e-17, -1.38777878e-17,  1.00000000e+00,\n",
    "         0.00000000e+00,  1.11022302e-16,  9.20353982e-02],\n",
    "       [ 6.37646122e-01,  9.55529412e-01,  3.27731092e-01,\n",
    "         7.29411765e-01,  2.70588235e-01,  5.55111512e-17,\n",
    "         0.00000000e+00,  5.55111512e-17,  1.20000000e-01]]\n",
    "\n",
    "for i in range(len(centers5)):\n",
    "    print(\"Cluster \" + str(i+1) + \": \")\n",
    "    print(\"----------\")\n",
    "    print(\"Temp, Humidity, Wind, Fog, Snow, Rain, Sunny, Cloudy, Kidnapping\")\n",
    "    for j in range(len(centers5[i])):\n",
    "        print(str(round(centers5[i][j],5)), end=\", \")\n",
    "    print()"
   ]
  },
  {
   "cell_type": "code",
   "execution_count": 26,
   "metadata": {},
   "outputs": [
    {
     "name": "stdout",
     "output_type": "stream",
     "text": [
      "Cluster 1: \n",
      "----------\n",
      "Temp, Humidity, Wind, Fog, Snow, Rain, Sunny, Cloudy, Rapes\n",
      "0.6043, 0.88054, 0.33779, -0.0, 0.0, 0.0, 0.0, 1.0, 0.07512, \n",
      "Cluster 2: \n",
      "----------\n",
      "Temp, Humidity, Wind, Fog, Snow, Rain, Sunny, Cloudy, Rapes\n",
      "0.58725, 0.90289, 0.28463, -0.0, 0.0, 0.0, 1.0, -0.0, 0.08718, \n",
      "Cluster 3: \n",
      "----------\n",
      "Temp, Humidity, Wind, Fog, Snow, Rain, Sunny, Cloudy, Rapes\n",
      "0.65113, 0.93982, 0.34576, -0.0, -0.0, 1.0, 0.0, 0.0, 0.07603, \n",
      "Cluster 4: \n",
      "----------\n",
      "Temp, Humidity, Wind, Fog, Snow, Rain, Sunny, Cloudy, Rapes\n",
      "0.63765, 0.95553, 0.32773, 0.72941, 0.27059, 0.0, 0.0, 0.0, 0.0877, \n"
     ]
    }
   ],
   "source": [
    "centers6 = [[ 6.04301083e-01,  8.80541872e-01,  3.37790289e-01,\n",
    "        -1.52655666e-16,  2.08166817e-17,  8.32667268e-17,\n",
    "         5.55111512e-17,  1.00000000e+00,  7.51231527e-02],\n",
    "       [ 5.87246777e-01,  9.02887538e-01,  2.84628745e-01,\n",
    "        -2.35922393e-16,  6.93889390e-17,  1.11022302e-16,\n",
    "         1.00000000e+00, -2.22044605e-16,  8.71787787e-02],\n",
    "       [ 6.51130065e-01,  9.39823009e-01,  3.45764855e-01,\n",
    "        -1.38777878e-17, -1.38777878e-17,  1.00000000e+00,\n",
    "         0.00000000e+00,  1.11022302e-16,  7.60257442e-02],\n",
    "       [ 6.37646122e-01,  9.55529412e-01,  3.27731092e-01,\n",
    "         7.29411765e-01,  2.70588235e-01,  5.55111512e-17,\n",
    "         0.00000000e+00,  5.55111512e-17,  8.77005348e-02]]\n",
    "\n",
    "for i in range(len(centers6)):\n",
    "    print(\"Cluster \" + str(i+1) + \": \")\n",
    "    print(\"----------\")\n",
    "    print(\"Temp, Humidity, Wind, Fog, Snow, Rain, Sunny, Cloudy, Rapes\")\n",
    "    for j in range(len(centers6[i])):\n",
    "        print(str(round(centers6[i][j],5)), end=\", \")\n",
    "    print()"
   ]
  },
  {
   "cell_type": "code",
   "execution_count": 27,
   "metadata": {},
   "outputs": [
    {
     "name": "stdout",
     "output_type": "stream",
     "text": [
      "Cluster 1: \n",
      "----------\n",
      "Temp, Humidity, Wind, Fog, Snow, Rain, Sunny, Cloudy, VCrimes\n",
      "0.59373, 0.9489, 0.35242, -0.0, 0.16912, 0.83088, 0.0, 0.0, 0.46537, \n",
      "Cluster 2: \n",
      "----------\n",
      "Temp, Humidity, Wind, Fog, Snow, Rain, Sunny, Cloudy, VCrimes\n",
      "0.58725, 0.90289, 0.28463, -0.0, 0.0, 0.0, 1.0, -0.0, 0.49273, \n",
      "Cluster 3: \n",
      "----------\n",
      "Temp, Humidity, Wind, Fog, Snow, Rain, Sunny, Cloudy, VCrimes\n",
      "0.6043, 0.88054, 0.33779, -0.0, 0.0, 0.0, 0.0, 1.0, 0.46802, \n",
      "Cluster 4: \n",
      "----------\n",
      "Temp, Humidity, Wind, Fog, Snow, Rain, Sunny, Cloudy, VCrimes\n",
      "0.75855, 0.94145, 0.30645, 1.0, -0.0, 0.0, 0.0, 0.0, 0.5205, \n"
     ]
    }
   ],
   "source": [
    "centers7 = [[ 5.93731460e-01,  9.48897059e-01,  3.52415966e-01,\n",
    "        -8.32667268e-17,  1.69117647e-01,  8.30882353e-01,\n",
    "         0.00000000e+00,  5.55111512e-17,  4.65373799e-01],\n",
    "       [ 5.87246777e-01,  9.02887538e-01,  2.84628745e-01,\n",
    "        -2.35922393e-16,  6.93889390e-17,  1.11022302e-16,\n",
    "         1.00000000e+00, -2.22044605e-16,  4.92728175e-01],\n",
    "       [ 6.04301083e-01,  8.80541872e-01,  3.37790289e-01,\n",
    "        -1.52655666e-16,  1.38777878e-17,  8.32667268e-17,\n",
    "         5.55111512e-17,  1.00000000e+00,  4.68019547e-01],\n",
    "       [ 7.58550631e-01,  9.41451613e-01,  3.06451613e-01,\n",
    "         1.00000000e+00, -1.38777878e-17,  5.55111512e-17,\n",
    "         0.00000000e+00,  5.55111512e-17,  5.20498651e-01]]\n",
    "\n",
    "for i in range(len(centers7)):\n",
    "    print(\"Cluster \" + str(i+1) + \": \")\n",
    "    print(\"----------\")\n",
    "    print(\"Temp, Humidity, Wind, Fog, Snow, Rain, Sunny, Cloudy, VCrimes\")\n",
    "    for j in range(len(centers7[i])):\n",
    "        print(str(round(centers7[i][j],5)), end=\", \")\n",
    "    print()"
   ]
  },
  {
   "cell_type": "code",
   "execution_count": null,
   "metadata": {},
   "outputs": [],
   "source": []
  },
  {
   "cell_type": "code",
   "execution_count": null,
   "metadata": {},
   "outputs": [],
   "source": []
  }
 ],
 "metadata": {
  "kernelspec": {
   "display_name": "Python 3",
   "language": "python",
   "name": "python3"
  },
  "language_info": {
   "codemirror_mode": {
    "name": "ipython",
    "version": 3
   },
   "file_extension": ".py",
   "mimetype": "text/x-python",
   "name": "python",
   "nbconvert_exporter": "python",
   "pygments_lexer": "ipython3",
   "version": "3.8.5"
  }
 },
 "nbformat": 4,
 "nbformat_minor": 4
}
